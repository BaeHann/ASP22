{
 "cells": [
  {
   "cell_type": "code",
   "execution_count": 1,
   "id": "f53c07a1-a7d3-4013-a591-b7e7bea73734",
   "metadata": {},
   "outputs": [
    {
     "name": "stderr",
     "output_type": "stream",
     "text": [
      "/home/ma-user/anaconda3/envs/PyTorch-1.8/lib/python3.7/site-packages/tqdm/auto.py:22: TqdmWarning: IProgress not found. Please update jupyter and ipywidgets. See https://ipywidgets.readthedocs.io/en/stable/user_install.html\n",
      "  from .autonotebook import tqdm as notebook_tqdm\n"
     ]
    }
   ],
   "source": [
    "import torch\n",
    "import torch.nn as nn\n",
    "from DataSource import test_dataloader\n",
    "from UNet import U_Net\n",
    "import numpy as np\n",
    "from PIL import Image\n",
    "\n",
    "model = U_Net(1,2)\n",
    "model.load_state_dict(torch.load('model_weights_test.pth'))\n",
    "model.eval() #模型评估\n",
    "model = model.cuda()\n",
    "def show_result(dataloader, model):\n",
    "    count_of_img=1\n",
    "    with torch.no_grad():\n",
    "        for X, y in dataloader:\n",
    "            X = X.cuda()\n",
    "            pred = model(X)\n",
    "            pred = pred.cpu()\n",
    "            pred = nn.Softmax(dim=1)(pred)\n",
    "            #pred = pred.int()\n",
    "            pred = np.array(pred)\n",
    "            #pred = np.where(pred>0.4,pred,0)\n",
    "            pred = pred*255\n",
    "            pred = pred.astype(np.int32)\n",
    "            y = y.int()#直接转换会有问题，因为当初我们取label时为了使用交叉熵函数转成过Long型\n",
    "            y = np.array(y)\n",
    "            batch_size = pred.shape[0]\n",
    "            for i in range(batch_size):\n",
    "                tensor_this_time = pred[i][0]\n",
    "                result_this_time = Image.fromarray(tensor_this_time)\n",
    "                label_this_time = Image.fromarray(y[i]*255)\n",
    "                result_this_time = result_this_time.convert(\"L\")\n",
    "                label_this_time = label_this_time.convert(\"L\")\n",
    "                result_this_time.save(\"result_\"+str(count_of_img)+\".jpg\")\n",
    "                label_this_time.save(\"label_\"+str(count_of_img)+\".jpg\")\n",
    "                count_of_img+=1\n",
    "\n",
    "show_result(test_dataloader,model)"
   ]
  }
 ],
 "metadata": {
  "kernelspec": {
   "display_name": "PyTorch-1.8",
   "language": "python",
   "name": "pytorch-1.8"
  },
  "language_info": {
   "codemirror_mode": {
    "name": "ipython",
    "version": 3
   },
   "file_extension": ".py",
   "mimetype": "text/x-python",
   "name": "python",
   "nbconvert_exporter": "python",
   "pygments_lexer": "ipython3",
   "version": "3.7.10"
  }
 },
 "nbformat": 4,
 "nbformat_minor": 5
}
