{
 "cells": [
  {
   "cell_type": "code",
   "execution_count": 2,
   "id": "28f845ff-d292-4fa0-902e-91b424ca58a8",
   "metadata": {},
   "outputs": [],
   "source": [
    "from PIL import Image\n",
    "import numpy as np\n",
    "from DeepLab_V3 import Deeplab_v3\n",
    "from Datasource import test_dataloader,train_dataloader\n",
    "import torch\n",
    "import torch.nn as nn\n",
    "model = Deeplab_v3()\n",
    "model.load_state_dict(torch.load('model_weights_12.pth'))\n",
    "model.eval() #模型评估\n",
    "model = model.cuda()\n",
    "def show_result(dataloader, model):\n",
    "    count_of_img=1\n",
    "    with torch.no_grad():\n",
    "        for X, y in dataloader:\n",
    "            X = X.cuda()\n",
    "            pred = model(X)\n",
    "            pred = pred.cpu()\n",
    "            pred = nn.Softmax(dim=1)(pred)#要归一化一下，这样才能形成概率，之前网络结构中没有这一步是因为交叉熵函数要输入的是raw data\n",
    "            #pred = pred.int()\n",
    "            pred = pred.argmax(dim=1)\n",
    "            pred = pred.int()\n",
    "            pred = np.array(pred)\n",
    "            y = y.int()#直接转换会有问题，因为当初我们取label时为了使用交叉熵函数转成过Long型\n",
    "            y = np.array(y)\n",
    "            batch_size = pred.shape[0]\n",
    "            for i in range(batch_size):\n",
    "                tensor_this_time = pred[i]\n",
    "                result_this_time = Image.fromarray(tensor_this_time)\n",
    "                result_this_time = result_this_time.convert(\"L\")\n",
    "                result_this_time.putpalette([0, 0, 0, 145, 24, 147, 23, 145, 147, 145, 147, 24, 180, 70, 70, \\\n",
    "                                             70, 180, 70, 70, 70, 180, 100, 200, 150, 100, 150, 200, 150, 100, \\\n",
    "                                             200, 150, 200, 100, 200, 100, 150, 200, 150, 100, 50, 110, 220, 50, \\\n",
    "                                             220,110, 110, 50, 220, 110, 220, 50, 220, 50, 110, 220, 110, 50, \\\n",
    "                                             170, 80, 90, 255, 255, 255])\n",
    "                result_this_time.save(\"result_\"+str(count_of_img)+\".png\")\n",
    "                label_this_time = y[i]\n",
    "                #label_this_time = label_this_time.int()\n",
    "                label_this_time = Image.fromarray(label_this_time)\n",
    "                label_this_time = label_this_time.convert(\"L\")\n",
    "                label_this_time.putpalette([0, 0, 0, 145, 24, 147, 23, 145, 147, 145, 147, 24, 180, 70, 70, \\\n",
    "                                             70, 180, 70, 70, 70, 180, 100, 200, 150, 100, 150, 200, 150, 100, \\\n",
    "                                             200, 150, 200, 100, 200, 100, 150, 200, 150, 100, 50, 110, 220, 50, \\\n",
    "                                             220,110, 110, 50, 220, 110, 220, 50, 220, 50, 110, 220, 110, 50, \\\n",
    "                                             170, 80, 90, 255, 255, 255])\n",
    "                label_this_time.save(\"label_\"+str(count_of_img)+\".png\")\n",
    "                count_of_img+=1\n",
    "\n",
    "show_result(test_dataloader,model)"
   ]
  }
 ],
 "metadata": {
  "kernelspec": {
   "display_name": "PyTorch-1.8",
   "language": "python",
   "name": "pytorch-1.8"
  },
  "language_info": {
   "codemirror_mode": {
    "name": "ipython",
    "version": 3
   },
   "file_extension": ".py",
   "mimetype": "text/x-python",
   "name": "python",
   "nbconvert_exporter": "python",
   "pygments_lexer": "ipython3",
   "version": "3.7.10"
  }
 },
 "nbformat": 4,
 "nbformat_minor": 5
}
