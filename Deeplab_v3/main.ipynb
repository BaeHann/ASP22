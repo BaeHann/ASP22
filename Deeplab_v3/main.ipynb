{
 "cells": [
  {
   "cell_type": "code",
   "execution_count": null,
   "id": "b921de1b-3203-4250-9495-03a3afc95e71",
   "metadata": {},
   "outputs": [
    {
     "name": "stderr",
     "output_type": "stream",
     "text": [
      "/home/ma-user/anaconda3/envs/PyTorch-1.8/lib/python3.7/site-packages/tqdm/auto.py:22: TqdmWarning: IProgress not found. Please update jupyter and ipywidgets. See https://ipywidgets.readthedocs.io/en/stable/user_install.html\n",
      "  from .autonotebook import tqdm as notebook_tqdm\n"
     ]
    },
    {
     "name": "stdout",
     "output_type": "stream",
     "text": [
      "Epoch 1\n",
      "-------------------------------\n",
      "loss: 3.114125  [    0/ 2908]\n",
      "loss: 3.067834  [  100/ 2908]\n",
      "loss: 3.003763  [  200/ 2908]\n",
      "loss: 2.915774  [  300/ 2908]\n",
      "loss: 2.944504  [  400/ 2908]\n",
      "loss: 2.869861  [  500/ 2908]\n",
      "loss: 2.957314  [  600/ 2908]\n",
      "loss: 2.882761  [  700/ 2908]\n",
      "loss: 2.917899  [  800/ 2908]\n",
      "loss: 2.855859  [  900/ 2908]\n",
      "loss: 2.843967  [ 1000/ 2908]\n",
      "loss: 2.766586  [ 1100/ 2908]\n",
      "loss: 2.775480  [ 1200/ 2908]\n",
      "loss: 2.841899  [ 1300/ 2908]\n",
      "loss: 2.833423  [ 1400/ 2908]\n",
      "loss: 2.802590  [ 1500/ 2908]\n",
      "loss: 2.761574  [ 1600/ 2908]\n",
      "loss: 2.814675  [ 1700/ 2908]\n",
      "loss: 2.773187  [ 1800/ 2908]\n",
      "loss: 2.790258  [ 1900/ 2908]\n",
      "loss: 2.775421  [ 2000/ 2908]\n",
      "loss: 2.777555  [ 2100/ 2908]\n",
      "loss: 2.746237  [ 2200/ 2908]\n",
      "loss: 2.780155  [ 2300/ 2908]\n",
      "loss: 2.807123  [ 2400/ 2908]\n",
      "loss: 2.794241  [ 2500/ 2908]\n",
      "loss: 2.738030  [ 2600/ 2908]\n",
      "loss: 2.702576  [ 2700/ 2908]\n",
      "loss: 2.676574  [ 2800/ 2908]\n"
     ]
    }
   ],
   "source": [
    "from DeepLab_V3 import Deeplab_v3\n",
    "import torch.nn as nn\n",
    "import torch\n",
    "from Datasource import train_dataloader,test_dataloader\n",
    "\n",
    "model = Deeplab_v3()\n",
    "model.train()\n",
    "model = model.cuda()\n",
    "learning_rate = 1e-2\n",
    "epochs = 3\n",
    "loss_fn = nn.CrossEntropyLoss()\n",
    "optimizer = torch.optim.Adadelta(model.parameters(), lr=learning_rate)\n",
    "#功力还不太够，先按照pytorch tutorials的流程来仿照着写\n",
    "def train_loop(dataloader, model, loss_fn, optimizer):\n",
    "    size = len(dataloader.dataset)\n",
    "    for batch, (X, y) in enumerate(dataloader):\n",
    "\n",
    "        X = X.cuda()\n",
    "        y = y.cuda()\n",
    "        pred = model(X)\n",
    "        loss = loss_fn(pred, y)\n",
    "\n",
    "        optimizer.zero_grad()\n",
    "        loss.backward()\n",
    "        optimizer.step()\n",
    "\n",
    "        if batch % 10 == 0:\n",
    "            loss, current = loss.item(), batch * len(X)\n",
    "            print(f\"loss: {loss:>7f}  [{current:>5d}/{size:>5d}]\")\n",
    "\n",
    "\n",
    "def test_loop(dataloader, model, loss_fn):\n",
    "    num_batches = len(dataloader)\n",
    "    test_loss = 0\n",
    "\n",
    "    with torch.no_grad():\n",
    "        for X, y in dataloader:\n",
    "            X = X.cuda()\n",
    "            y = y.cuda()\n",
    "            pred = model(X)\n",
    "            test_loss += loss_fn(pred, y).item()\n",
    "\n",
    "    test_loss /= num_batches\n",
    "    print(f\"Avg loss: {test_loss:>8f} \\n\")\n",
    "\n",
    "for t in range(epochs):\n",
    "    print(f\"Epoch {t+1}\\n-------------------------------\")\n",
    "    #print(len(test_dataloader.dataset))\n",
    "    train_loop(train_dataloader, model, loss_fn, optimizer)\n",
    "    torch.save(model.state_dict(), 'model_weights.pth')\n",
    "    test_loop(test_dataloader, model, loss_fn)\n",
    "\n",
    "print(\"Done!\")"
   ]
  }
 ],
 "metadata": {
  "kernelspec": {
   "display_name": "PyTorch-1.8",
   "language": "python",
   "name": "pytorch-1.8"
  },
  "language_info": {
   "codemirror_mode": {
    "name": "ipython",
    "version": 3
   },
   "file_extension": ".py",
   "mimetype": "text/x-python",
   "name": "python",
   "nbconvert_exporter": "python",
   "pygments_lexer": "ipython3",
   "version": "3.7.10"
  }
 },
 "nbformat": 4,
 "nbformat_minor": 5
}
